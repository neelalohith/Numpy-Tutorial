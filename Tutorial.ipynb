{
 "cells": [
  {
   "cell_type": "code",
   "execution_count": 1,
   "metadata": {},
   "outputs": [],
   "source": [
    "import numpy as np"
   ]
  },
  {
   "cell_type": "markdown",
   "metadata": {},
   "source": [
    "Numpy Basics"
   ]
  },
  {
   "cell_type": "code",
   "execution_count": 9,
   "metadata": {},
   "outputs": [
    {
     "name": "stdout",
     "output_type": "stream",
     "text": [
      "Array = [1 2 3]\n",
      "Number of dimensions = 1\n",
      "Shape = (3,)\n",
      "Datatype = int64\n",
      "Item size in bytes = 8\n"
     ]
    }
   ],
   "source": [
    "# Creation\n",
    "a = np.array([1,2,3])\n",
    "print(f\"Array = {a}\")\n",
    "print(f\"Number of dimensions = {a.ndim}\")\n",
    "print(f\"Shape = {a.shape}\")\n",
    "print(f\"Datatype = {a.dtype}\")\n",
    "print(f\"Item size in bytes = {a.itemsize}\")"
   ]
  },
  {
   "cell_type": "code",
   "execution_count": 10,
   "metadata": {},
   "outputs": [
    {
     "name": "stdout",
     "output_type": "stream",
     "text": [
      "[[1.  2.  3. ]\n",
      " [3.2 4.  5. ]\n",
      " [1.  3.  5.2]]\n",
      "Data type = float64\n",
      "2\n",
      "(3, 3)\n"
     ]
    }
   ],
   "source": [
    "# Properties of numpy array\n",
    "a = np.array([[1,2,3], [3.2,4,5], [1,3,5.2]])\n",
    "print(a)\n",
    "print(f\"Data type = {a.dtype}\")\n",
    "print(a.ndim)\n",
    "print(a.shape)"
   ]
  },
  {
   "cell_type": "code",
   "execution_count": 11,
   "metadata": {},
   "outputs": [
    {
     "name": "stdout",
     "output_type": "stream",
     "text": [
      "3\n",
      "5\n"
     ]
    }
   ],
   "source": [
    "# Indexing\n",
    "a = np.array([[1,2,3], [3,4,5], [1,3,5]])\n",
    "print(a[0][2])\n",
    "print(a[1,2])"
   ]
  },
  {
   "cell_type": "code",
   "execution_count": 12,
   "metadata": {},
   "outputs": [
    {
     "name": "stdout",
     "output_type": "stream",
     "text": [
      "Numbers from 1st row = [1 2 3]\n",
      "Numbers from 2nd column = [2 4 3]\n"
     ]
    }
   ],
   "source": [
    "#Get numbers from one row or one column\n",
    "print(f\"Numbers from 1st row = {a[0, :]}\")\n",
    "print(f\"Numbers from 2nd column = {a[:, 1]}\")"
   ]
  },
  {
   "cell_type": "code",
   "execution_count": 13,
   "metadata": {},
   "outputs": [
    {
     "data": {
      "text/plain": [
       "array([[4, 5],\n",
       "       [3, 5]])"
      ]
     },
     "execution_count": 13,
     "metadata": {},
     "output_type": "execute_result"
    }
   ],
   "source": [
    "# Sub matrix\n",
    "b = a[1:3, 1:3]\n",
    "b"
   ]
  },
  {
   "cell_type": "code",
   "execution_count": 14,
   "metadata": {},
   "outputs": [
    {
     "data": {
      "text/plain": [
       "array([[1, 3],\n",
       "       [3, 5],\n",
       "       [1, 5]])"
      ]
     },
     "execution_count": 14,
     "metadata": {},
     "output_type": "execute_result"
    }
   ],
   "source": [
    "# Get random rows or columns\n",
    "b = a[:, [0,2]]\n",
    "b"
   ]
  },
  {
   "cell_type": "code",
   "execution_count": 15,
   "metadata": {},
   "outputs": [
    {
     "data": {
      "text/plain": [
       "array([ 6,  5,  5,  7, 10, 11])"
      ]
     },
     "execution_count": 15,
     "metadata": {},
     "output_type": "execute_result"
    }
   ],
   "source": [
    "# Boolean masking\n",
    "a = np.array([[4,1,6], [5,2,5], [7,10,11]])\n",
    "b = a[a > 4]\n",
    "b"
   ]
  },
  {
   "cell_type": "code",
   "execution_count": 16,
   "metadata": {},
   "outputs": [
    {
     "data": {
      "text/plain": [
       "array([4, 6, 5, 5, 7])"
      ]
     },
     "execution_count": 16,
     "metadata": {},
     "output_type": "execute_result"
    }
   ],
   "source": [
    "b = a[(a > 2) & (a < 10)]\n",
    "b"
   ]
  },
  {
   "cell_type": "markdown",
   "metadata": {},
   "source": [
    "Initialize a Numpy Array"
   ]
  },
  {
   "cell_type": "code",
   "execution_count": 18,
   "metadata": {},
   "outputs": [
    {
     "data": {
      "text/plain": [
       "array([[0., 0.],\n",
       "       [0., 0.],\n",
       "       [0., 0.]])"
      ]
     },
     "execution_count": 18,
     "metadata": {},
     "output_type": "execute_result"
    }
   ],
   "source": [
    "zeros = np.zeros((3,2))\n",
    "zeros"
   ]
  },
  {
   "cell_type": "code",
   "execution_count": 19,
   "metadata": {},
   "outputs": [
    {
     "data": {
      "text/plain": [
       "array([[1., 1., 1.],\n",
       "       [1., 1., 1.],\n",
       "       [1., 1., 1.]])"
      ]
     },
     "execution_count": 19,
     "metadata": {},
     "output_type": "execute_result"
    }
   ],
   "source": [
    "ones = np.ones((3,3))\n",
    "ones"
   ]
  },
  {
   "cell_type": "code",
   "execution_count": 21,
   "metadata": {},
   "outputs": [
    {
     "data": {
      "text/plain": [
       "array([[2, 2, 2, 2],\n",
       "       [2, 2, 2, 2],\n",
       "       [2, 2, 2, 2]])"
      ]
     },
     "execution_count": 21,
     "metadata": {},
     "output_type": "execute_result"
    }
   ],
   "source": [
    "twos = np.full((3,4), 2)\n",
    "twos"
   ]
  },
  {
   "cell_type": "code",
   "execution_count": 22,
   "metadata": {},
   "outputs": [
    {
     "data": {
      "text/plain": [
       "array([[1., 0., 0., 0.],\n",
       "       [0., 1., 0., 0.],\n",
       "       [0., 0., 1., 0.],\n",
       "       [0., 0., 0., 1.]])"
      ]
     },
     "execution_count": 22,
     "metadata": {},
     "output_type": "execute_result"
    }
   ],
   "source": [
    "identity = np.identity(4)\n",
    "identity"
   ]
  },
  {
   "cell_type": "code",
   "execution_count": 23,
   "metadata": {},
   "outputs": [
    {
     "name": "stdout",
     "output_type": "stream",
     "text": [
      "Random 3x2 matrix: [[0.28103216 0.20121355]\n",
      " [0.67302108 0.08843408]\n",
      " [0.45216747 0.47521063]]\n",
      "Random 3x2x2 matrix: [[[0.49997952 0.37438971]\n",
      "  [0.27907674 0.15603857]]\n",
      "\n",
      " [[0.95657195 0.95549178]\n",
      "  [0.86340667 0.98781315]]\n",
      "\n",
      " [[0.01433675 0.51563082]\n",
      "  [0.60607468 0.72689963]]]\n"
     ]
    }
   ],
   "source": [
    "# Create a random matrix with values between 0 and 1\n",
    "random_3x2_matrix = np.random.rand(3,2)\n",
    "print(f\"Random 3x2 matrix: {random_3x2_matrix}\")\n",
    "random_3x2x2_matrix  = np.random.rand(3,2,2)\n",
    "print(f\"Random 3x2x2 matrix: {random_3x2x2_matrix}\")"
   ]
  },
  {
   "cell_type": "code",
   "execution_count": 25,
   "metadata": {},
   "outputs": [
    {
     "data": {
      "text/plain": [
       "array([ 1.        ,  1.64285714,  2.28571429,  2.92857143,  3.57142857,\n",
       "        4.21428571,  4.85714286,  5.5       ,  6.14285714,  6.78571429,\n",
       "        7.42857143,  8.07142857,  8.71428571,  9.35714286, 10.        ])"
      ]
     },
     "execution_count": 25,
     "metadata": {},
     "output_type": "execute_result"
    }
   ],
   "source": [
    "# Create an even space distributed array\n",
    "# 15 numbers\n",
    "a = np.linspace(start = 1, stop = 10, num = 15)\n",
    "a"
   ]
  },
  {
   "cell_type": "code",
   "execution_count": 28,
   "metadata": {},
   "outputs": [
    {
     "data": {
      "text/plain": [
       "array([ 1,  3,  5,  7,  9, 11, 13, 15, 17, 19, 21, 23, 25, 27, 29, 31, 33,\n",
       "       35, 37, 39, 41, 43, 45, 47, 49, 51, 53, 55, 57, 59, 61, 63, 65, 67,\n",
       "       69, 71, 73, 75, 77, 79, 81, 83, 85, 87, 89, 91, 93, 95, 97, 99])"
      ]
     },
     "execution_count": 28,
     "metadata": {},
     "output_type": "execute_result"
    }
   ],
   "source": [
    "# array with start and step positions\n",
    "a = np.arange(start = 1, stop = 100, step = 2)\n",
    "a"
   ]
  },
  {
   "cell_type": "markdown",
   "metadata": {},
   "source": [
    "Reorganize Arrays"
   ]
  },
  {
   "cell_type": "code",
   "execution_count": 29,
   "metadata": {},
   "outputs": [
    {
     "name": "stdout",
     "output_type": "stream",
     "text": [
      "[[1 2 3]\n",
      " [3 1 2]]\n",
      "(2, 3)\n"
     ]
    }
   ],
   "source": [
    "a = np.array([[1,2,3], [3,1,2]])\n",
    "print(a)\n",
    "print(a.shape)"
   ]
  },
  {
   "cell_type": "code",
   "execution_count": 30,
   "metadata": {},
   "outputs": [
    {
     "data": {
      "text/plain": [
       "array([[1, 2],\n",
       "       [3, 3],\n",
       "       [1, 2]])"
      ]
     },
     "execution_count": 30,
     "metadata": {},
     "output_type": "execute_result"
    }
   ],
   "source": [
    "b = a.reshape((3,2))\n",
    "b"
   ]
  },
  {
   "cell_type": "code",
   "execution_count": 31,
   "metadata": {},
   "outputs": [
    {
     "name": "stdout",
     "output_type": "stream",
     "text": [
      "[[1 2 3]\n",
      " [2 3 4]]\n",
      "[[2 3 4]\n",
      " [5 1 6]]\n"
     ]
    }
   ],
   "source": [
    "# Stack Different Arrays\n",
    "a = np.array([[1,2,3], [2,3,4]])\n",
    "b = np.array([[2,3,4], [5,1,6]])\n",
    "print(a)\n",
    "print(b)"
   ]
  },
  {
   "cell_type": "code",
   "execution_count": 32,
   "metadata": {},
   "outputs": [
    {
     "data": {
      "text/plain": [
       "array([[1, 2, 3],\n",
       "       [2, 3, 4],\n",
       "       [2, 3, 4],\n",
       "       [5, 1, 6]])"
      ]
     },
     "execution_count": 32,
     "metadata": {},
     "output_type": "execute_result"
    }
   ],
   "source": [
    "# Vertical Stack\n",
    "vertical_stack = np.vstack((a,b))\n",
    "vertical_stack"
   ]
  },
  {
   "cell_type": "code",
   "execution_count": 33,
   "metadata": {},
   "outputs": [
    {
     "data": {
      "text/plain": [
       "array([[1, 2, 3, 2, 3, 4],\n",
       "       [2, 3, 4, 5, 1, 6]])"
      ]
     },
     "execution_count": 33,
     "metadata": {},
     "output_type": "execute_result"
    }
   ],
   "source": [
    "# Horizontal Stack\n",
    "horizontal_stack = np.hstack((a,b))\n",
    "horizontal_stack"
   ]
  },
  {
   "cell_type": "markdown",
   "metadata": {},
   "source": [
    "Mathematics"
   ]
  },
  {
   "cell_type": "code",
   "execution_count": 34,
   "metadata": {},
   "outputs": [
    {
     "name": "stdout",
     "output_type": "stream",
     "text": [
      "Min = 1\n",
      "Max = 3\n",
      "Sum = 12\n",
      "Mean = 2.0\n",
      "Variance = 0.6666666666666666\n",
      "Standard Deviation = 0.816496580927726\n"
     ]
    }
   ],
   "source": [
    "# Stats\n",
    "a = np.array([[1,2,3], [2,3,1]])\n",
    "print(f\"Min = {np.min(a)}\")\n",
    "print(f\"Max = {np.max(a)}\")\n",
    "print(f\"Sum = {np.sum(a)}\")\n",
    "print(f\"Mean = {np.mean(a)}\")\n",
    "print(f\"Variance = {np.var(a)}\")\n",
    "print(f\"Standard Deviation = {np.std(a)}\")"
   ]
  },
  {
   "cell_type": "code",
   "execution_count": 36,
   "metadata": {},
   "outputs": [
    {
     "data": {
      "text/plain": [
       "[array([2, 3, 4]), array([3, 4, 2])]"
      ]
     },
     "execution_count": 36,
     "metadata": {},
     "output_type": "execute_result"
    }
   ],
   "source": [
    "# Broadcasting\n",
    "a = np.array([[1,2,3], [2,3,1]])\n",
    "b = a + 1\n",
    "list(b)"
   ]
  },
  {
   "cell_type": "code",
   "execution_count": 37,
   "metadata": {},
   "outputs": [
    {
     "data": {
      "text/plain": [
       "array([[-1,  0,  1],\n",
       "       [ 0,  1, -1]])"
      ]
     },
     "execution_count": 37,
     "metadata": {},
     "output_type": "execute_result"
    }
   ],
   "source": [
    "b = a - 2\n",
    "b"
   ]
  },
  {
   "cell_type": "code",
   "execution_count": 38,
   "metadata": {},
   "outputs": [
    {
     "data": {
      "text/plain": [
       "array([[ 4,  8, 12],\n",
       "       [ 8, 12,  4]])"
      ]
     },
     "execution_count": 38,
     "metadata": {},
     "output_type": "execute_result"
    }
   ],
   "source": [
    "b = a * 4\n",
    "b"
   ]
  },
  {
   "cell_type": "code",
   "execution_count": 39,
   "metadata": {},
   "outputs": [
    {
     "data": {
      "text/plain": [
       "array([[3, 5, 7],\n",
       "       [4, 6, 5],\n",
       "       [6, 5, 7]])"
      ]
     },
     "execution_count": 39,
     "metadata": {},
     "output_type": "execute_result"
    }
   ],
   "source": [
    "# Broadcasting across multiple arrays\n",
    "a = np.array([[1,2,3], [2,3,1],[4,2,3]])\n",
    "b = np.array([[2,3,4]])\n",
    "a+ b"
   ]
  },
  {
   "cell_type": "markdown",
   "metadata": {},
   "source": [
    "Linear Algebra"
   ]
  },
  {
   "cell_type": "code",
   "execution_count": 40,
   "metadata": {},
   "outputs": [
    {
     "data": {
      "text/plain": [
       "array([3, 8, 6])"
      ]
     },
     "execution_count": 40,
     "metadata": {},
     "output_type": "execute_result"
    }
   ],
   "source": [
    "# Matrix multiplication\n",
    "a = np.array([1,2,3])\n",
    "b = np.array([3,4,2])\n",
    "a * b"
   ]
  },
  {
   "cell_type": "code",
   "execution_count": 41,
   "metadata": {},
   "outputs": [
    {
     "name": "stdout",
     "output_type": "stream",
     "text": [
      "a.b = 17\n"
     ]
    }
   ],
   "source": [
    "# Dot product \n",
    "# 1x3 + 2x4 + 3x2\n",
    "print(f\"a.b = {a.dot(b)}\")"
   ]
  },
  {
   "cell_type": "code",
   "execution_count": 43,
   "metadata": {},
   "outputs": [
    {
     "name": "stdout",
     "output_type": "stream",
     "text": [
      "a x b = [[22  9]\n",
      " [24 19]\n",
      " [22  9]]\n"
     ]
    }
   ],
   "source": [
    "# Cross Product\n",
    "a = np.array([[1,2,3], [4,1,2], [1,2,3]]) # 3x3\n",
    "b = np.array([[3,4], [2,1], [5,1]]) # 3x2\n",
    "\n",
    "# Note: column of a must be equal to row of b, columns must be same\n",
    "print(f\"a x b = {np.matmul(a,b)}\")"
   ]
  },
  {
   "cell_type": "code",
   "execution_count": 46,
   "metadata": {},
   "outputs": [
    {
     "name": "stdout",
     "output_type": "stream",
     "text": [
      "-2.0000000000000004\n"
     ]
    }
   ],
   "source": [
    "# Determinant \n",
    "a = np.array([[1,2], [3,4]])\n",
    "determinant = np.linalg.det(a)\n",
    "print(determinant)"
   ]
  },
  {
   "cell_type": "code",
   "execution_count": 49,
   "metadata": {},
   "outputs": [
    {
     "name": "stdout",
     "output_type": "stream",
     "text": [
      "Inverse of a = [[-2.   1. ]\n",
      " [ 1.5 -0.5]]\n",
      "Product = [[1.0000000e+00 0.0000000e+00]\n",
      " [8.8817842e-16 1.0000000e+00]]\n"
     ]
    }
   ],
   "source": [
    "# Inverse Matrix\n",
    "a = np.array([[1,2], [3,4]])\n",
    "b = np.linalg.inv(a)\n",
    "print(f\"Inverse of a = {b}\")\n",
    "print(f\"Product = {np.matmul(a,b)}\")"
   ]
  },
  {
   "cell_type": "code",
   "execution_count": 50,
   "metadata": {},
   "outputs": [
    {
     "data": {
      "text/plain": [
       "array([[0, 1, 2],\n",
       "       [3, 4, 5],\n",
       "       [6, 7, 8]])"
      ]
     },
     "execution_count": 50,
     "metadata": {},
     "output_type": "execute_result"
    }
   ],
   "source": [
    "# Diagonal Matrix\n",
    "x = np.arange(9).reshape((3,3))\n",
    "x"
   ]
  },
  {
   "cell_type": "code",
   "execution_count": 53,
   "metadata": {},
   "outputs": [
    {
     "name": "stdout",
     "output_type": "stream",
     "text": [
      "0th diagonal = [0 4 8]\n",
      "1st diagonal = [1 5]\n",
      "2nd diagonal = [2]\n",
      "-1st diagonal = [3 7]\n",
      "-2nd diagonal = [6]\n"
     ]
    }
   ],
   "source": [
    "print(f\"0th diagonal = {np.diag(x)}\")\n",
    "print(f\"1st diagonal = {np.diag(x, k = 1)}\")\n",
    "print(f\"2nd diagonal = {np.diag(x, k = 2)}\")\n",
    "print(f\"-1st diagonal = {np.diag(x, k = -1)}\")\n",
    "print(f\"-2nd diagonal = {np.diag(x, k = -2)}\")"
   ]
  },
  {
   "cell_type": "markdown",
   "metadata": {},
   "source": [
    "Load Data to file"
   ]
  },
  {
   "cell_type": "code",
   "execution_count": 55,
   "metadata": {},
   "outputs": [
    {
     "data": {
      "text/plain": [
       "array([[1.5, 2.1, 5.4, 6.1],\n",
       "       [1.2, 3.1, 5.1, 5.1],\n",
       "       [1. , 5.1, 5.1, 3.2]])"
      ]
     },
     "execution_count": 55,
     "metadata": {},
     "output_type": "execute_result"
    }
   ],
   "source": [
    "a = np.genfromtxt(\"/Users/neelalohithrkashyap/Documents/DataScience/Numpy/numbers.csv\", delimiter=\",\")\n",
    "a"
   ]
  },
  {
   "cell_type": "markdown",
   "metadata": {},
   "source": [
    "Speed Test with Lists"
   ]
  },
  {
   "cell_type": "code",
   "execution_count": 56,
   "metadata": {},
   "outputs": [
    {
     "name": "stdout",
     "output_type": "stream",
     "text": [
      "Time to process Python list = 0.08612608909606934s\n",
      "Time to process Numpy array = 0.0018620491027832031s\n"
     ]
    }
   ],
   "source": [
    "a = [i for i in range(1000000)]\n",
    "b = np.arange(1000000)\n",
    "import time\n",
    "\n",
    "start = time.time() \n",
    "for i in range(len(a)): \n",
    "    a[i] += 1\n",
    "end = time.time() \n",
    "print(f\"Time to process Python list = {end - start}s\")\n",
    "\n",
    "start = time.time() \n",
    "b = b + 1\n",
    "end = time.time() \n",
    "print(f\"Time to process Numpy array = {end - start}s\")"
   ]
  }
 ],
 "metadata": {
  "kernelspec": {
   "display_name": "base",
   "language": "python",
   "name": "python3"
  },
  "language_info": {
   "codemirror_mode": {
    "name": "ipython",
    "version": 3
   },
   "file_extension": ".py",
   "mimetype": "text/x-python",
   "name": "python",
   "nbconvert_exporter": "python",
   "pygments_lexer": "ipython3",
   "version": "3.12.4"
  }
 },
 "nbformat": 4,
 "nbformat_minor": 2
}
